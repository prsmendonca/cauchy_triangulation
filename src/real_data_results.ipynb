{
 "cells": [
  {
   "cell_type": "code",
   "execution_count": 10,
   "metadata": {},
   "outputs": [],
   "source": [
    "import numpy"
   ]
  },
  {
   "cell_type": "markdown",
   "metadata": {},
   "source": [
    "# Model House"
   ]
  },
  {
   "cell_type": "code",
   "execution_count": 11,
   "metadata": {},
   "outputs": [
    {
     "name": "stdout",
     "output_type": "stream",
     "text": [
      "DLT: 1.0\n",
      "LOST: 1.2529091119959797\n",
      "Cauchy: 0.7343277976903833\n",
      "MRE: 0.3662366280257802\n"
     ]
    }
   ],
   "source": [
    "DLT_err = 0.00181069\n",
    "LOST_err =  0.00226863\n",
    "Cauchy_err = 0.00132964\n",
    "MRE_err = 0.000663141\n",
    "\n",
    "print(\"DLT:\", DLT_err/DLT_err)\n",
    "print(\"LOST:\", LOST_err/DLT_err)\n",
    "print(\"Cauchy:\", Cauchy_err/DLT_err)\n",
    "print(\"MRE:\", MRE_err/DLT_err)"
   ]
  },
  {
   "cell_type": "code",
   "execution_count": 12,
   "metadata": {},
   "outputs": [
    {
     "name": "stdout",
     "output_type": "stream",
     "text": [
      "DLT: 1.0\n",
      "LOST: 0.6461751855191067\n",
      "Cauchy: 15.655553684127096\n",
      "MRE: 0.3197804484162762\n"
     ]
    }
   ],
   "source": [
    "DLT_time_musec = 5.04665\n",
    "LOST_time_musec =  3.26102\n",
    "Cauchy_time_musec = 79.0081\n",
    "MRE_time_musec =  1.61382\n",
    "\n",
    "print(\"DLT:\", DLT_time_musec/DLT_time_musec)\n",
    "print(\"LOST:\", LOST_time_musec/DLT_time_musec)\n",
    "print(\"Cauchy:\", Cauchy_time_musec/DLT_time_musec)\n",
    "print(\"MRE:\", MRE_time_musec/DLT_time_musec)"
   ]
  },
  {
   "cell_type": "markdown",
   "metadata": {},
   "source": [
    "# Dinosaur"
   ]
  },
  {
   "cell_type": "code",
   "execution_count": 13,
   "metadata": {},
   "outputs": [
    {
     "name": "stdout",
     "output_type": "stream",
     "text": [
      "DLT: 1.0\n",
      "LOST: 3.167495408624064\n",
      "Cauchy: 1.6393243374820794\n",
      "MRE: 0.0\n"
     ]
    }
   ],
   "source": [
    "DLT_err = 5.95682e-05\n",
    "LOST_err =  0.000188682\n",
    "Cauchy_err = 9.76516e-05\n",
    "MRE_err = 0\n",
    "\n",
    "print(\"DLT:\", DLT_err/DLT_err)\n",
    "print(\"LOST:\", LOST_err/DLT_err)\n",
    "print(\"Cauchy:\", Cauchy_err/DLT_err)\n",
    "print(\"MRE:\", MRE_err/DLT_err)"
   ]
  },
  {
   "cell_type": "code",
   "execution_count": 14,
   "metadata": {},
   "outputs": [
    {
     "name": "stdout",
     "output_type": "stream",
     "text": [
      "DLT: 1.0\n",
      "LOST: 0.7017877097454285\n",
      "Cauchy: 0.3081805437996663\n",
      "MRE: 9.252903056679306\n"
     ]
    }
   ],
   "source": [
    "DLT_time_musec = 4.50129\n",
    "LOST_time_musec =  3.15895\n",
    "Cauchy_time_musec = 1.38721\n",
    "MRE_time_musec = 41.65\n",
    "\n",
    "print(\"DLT:\", DLT_time_musec/DLT_time_musec)\n",
    "print(\"LOST:\", LOST_time_musec/DLT_time_musec)\n",
    "print(\"Cauchy:\", Cauchy_time_musec/DLT_time_musec)\n",
    "print(\"MRE:\", MRE_time_musec/DLT_time_musec)"
   ]
  }
 ],
 "metadata": {
  "kernelspec": {
   "display_name": "Python 3",
   "language": "python",
   "name": "python3"
  },
  "language_info": {
   "codemirror_mode": {
    "name": "ipython",
    "version": 3
   },
   "file_extension": ".py",
   "mimetype": "text/x-python",
   "name": "python",
   "nbconvert_exporter": "python",
   "pygments_lexer": "ipython3",
   "version": "3.12.0"
  }
 },
 "nbformat": 4,
 "nbformat_minor": 2
}
