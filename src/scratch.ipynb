{
 "cells": [
  {
   "cell_type": "code",
   "execution_count": 1,
   "metadata": {},
   "outputs": [],
   "source": [
    "import numpy"
   ]
  },
  {
   "cell_type": "markdown",
   "metadata": {},
   "source": [
    "# Model House"
   ]
  },
  {
   "cell_type": "code",
   "execution_count": 3,
   "metadata": {},
   "outputs": [
    {
     "name": "stdout",
     "output_type": "stream",
     "text": [
      "DLT: 1.0\n",
      "LOST: 1.2529091119959797\n",
      "Cauchy: 0.7343277976903833\n",
      "MRE: 0.3662366280257802\n"
     ]
    }
   ],
   "source": [
    "DLT_err = 0.00181069\n",
    "LOST_err =  0.00226863\n",
    "Cauchy_err = 0.00132964\n",
    "MRE_err = 0.000663141\n",
    "\n",
    "print(\"DLT:\", DLT_err/DLT_err)\n",
    "print(\"LOST:\", LOST_err/DLT_err)\n",
    "print(\"Cauchy:\", Cauchy_err/DLT_err)\n",
    "print(\"MRE:\", MRE_err/DLT_err)"
   ]
  },
  {
   "cell_type": "code",
   "execution_count": null,
   "metadata": {},
   "outputs": [
    {
     "name": "stdout",
     "output_type": "stream",
     "text": [
      "DLT: 1.0\n",
      "LOST: 1.2529091119959797\n",
      "Cauchy: 0.7343277976903833\n",
      "MRE: 0.3662366280257802\n"
     ]
    }
   ],
   "source": [
    "DLT_err = 0.00181069\n",
    "LOST_err =  0.00226863\n",
    "Cauchy_err = 0.00132964\n",
    "MRE_err = 0.000663141\n",
    "\n",
    "print(\"DLT:\", DLT_err/DLT_err)\n",
    "print(\"LOST:\", LOST_err/DLT_err)\n",
    "print(\"Cauchy:\", Cauchy_err/DLT_err)\n",
    "print(\"MRE:\", MRE_err/DLT_err)"
   ]
  },
  {
   "cell_type": "code",
   "execution_count": 5,
   "metadata": {},
   "outputs": [
    {
     "name": "stdout",
     "output_type": "stream",
     "text": [
      "DLT: 1.0\n",
      "LOST: 0.6654293231284382\n",
      "Cauchy: 0.3500406601291557\n",
      "MRE: 15.841090648170294\n"
     ]
    }
   ],
   "source": [
    "DLT_time_musec = 5.22625\n",
    "LOST_time_musec =  3.4777\n",
    "Cauchy_time_musec = 1.8294\n",
    "MRE_time_musec = 82.7895\n",
    "\n",
    "print(\"DLT:\", DLT_time_musec/DLT_time_musec)\n",
    "print(\"LOST:\", LOST_time_musec/DLT_time_musec)\n",
    "print(\"Cauchy:\", Cauchy_time_musec/DLT_time_musec)\n",
    "print(\"MRE:\", MRE_time_musec/DLT_time_musec)"
   ]
  },
  {
   "cell_type": "code",
   "execution_count": null,
   "metadata": {},
   "outputs": [],
   "source": []
  }
 ],
 "metadata": {
  "kernelspec": {
   "display_name": "Python 3",
   "language": "python",
   "name": "python3"
  },
  "language_info": {
   "codemirror_mode": {
    "name": "ipython",
    "version": 3
   },
   "file_extension": ".py",
   "mimetype": "text/x-python",
   "name": "python",
   "nbconvert_exporter": "python",
   "pygments_lexer": "ipython3",
   "version": "3.12.0"
  }
 },
 "nbformat": 4,
 "nbformat_minor": 2
}
